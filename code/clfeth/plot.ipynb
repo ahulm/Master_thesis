{
 "cells": [
  {
   "cell_type": "code",
   "execution_count": 1,
   "metadata": {},
   "outputs": [],
   "source": [
    "import numpy as np\n",
    "import random\n",
    "import scipy.interpolate as interp\n",
    "import matplotlib.pyplot as plt\n",
    "H_in_kJmol = 2625.499639\n",
    "R = 8.314 # J/(K*mol)\n",
    "T = 300   # K\n",
    "RT = R*T/1000.0 # kJ / mol\n",
    "RT_au = RT/2625.5\n",
    "kB          = 1.380648e-23      # J / K\n",
    "H_to_J      = 4.359744e-18      #\n",
    "kB_a        = kB / H_to_J       # Hartree / K"
   ]
  },
  {
   "cell_type": "code",
   "execution_count": 2,
   "metadata": {},
   "outputs": [],
   "source": [
    "def get_F(dat, x):\n",
    "    dx = x[1]-x[0]\n",
    "    prob_surface = np.exp(dat/RT_au)\n",
    "    prob_surface /= prob_surface.sum()*dx\n",
    "    F = RT*np.log(prob_surface, out=np.zeros_like(prob_surface), where=(prob_surface!=0))\n",
    "    F -= F.min()\n",
    "    return (prob_surface, F)"
   ]
  },
  {
   "cell_type": "code",
   "execution_count": 3,
   "metadata": {},
   "outputs": [],
   "source": [
    "def RMSD(dat):\n",
    "    d = np.loadtxt('ABF/500/bias_out_40000.dat', skiprows=1)\n",
    "    (P,ref) = get_F(d[:,3],d[:,0])\n",
    "    diff = np.power(ref-dat,2.0)\n",
    "    mean_diff = np.mean(diff)\n",
    "    return np.sqrt(mean_diff)"
   ]
  },
  {
   "cell_type": "code",
   "execution_count": 4,
   "metadata": {},
   "outputs": [
    {
     "data": {
      "text/plain": [
       "14.192834069606706"
      ]
     },
     "execution_count": 4,
     "metadata": {},
     "output_type": "execute_result"
    }
   ],
   "source": [
    "RMSD(np.loadtxt(f'ABF/100/bias_out_40000.dat', skiprows=1)[:,3])"
   ]
  },
  {
   "cell_type": "code",
   "execution_count": 5,
   "metadata": {},
   "outputs": [],
   "source": [
    "RMSD_ABF_100 = []\n",
    "for i in range(1000,41000,1000):\n",
    "    dat = np.loadtxt(f'ABF/100/bias_out_%d.dat' % (i), skiprows=1)\n",
    "    (P,dat) = get_F(dat[:,3], dat[:,0])\n",
    "    RMSD_ABF_100.append(RMSD(dat))"
   ]
  },
  {
   "cell_type": "code",
   "execution_count": 6,
   "metadata": {},
   "outputs": [],
   "source": [
    "RMSD_ABF_1 = []\n",
    "for i in range(1000,41000,1000):\n",
    "    dat = np.loadtxt(f'ABF/1/bias_out_%d.dat' % (i), skiprows=1)\n",
    "    (P,dat) = get_F(dat[:,3], dat[:,0])\n",
    "    RMSD_ABF_1.append(RMSD(dat))"
   ]
  },
  {
   "cell_type": "code",
   "execution_count": 7,
   "metadata": {},
   "outputs": [],
   "source": [
    "RMSD_ABF_10 = []\n",
    "for i in range(1000,25000,1000):\n",
    "    dat = np.loadtxt(f'ABF/10/bias_out_%d.dat' % (i), skiprows=1)\n",
    "    (P,dat) = get_F(dat[:,3], dat[:,0])\n",
    "    RMSD_ABF_10.append(RMSD(dat))"
   ]
  },
  {
   "cell_type": "code",
   "execution_count": 8,
   "metadata": {},
   "outputs": [],
   "source": [
    "RMSD_ABF_500 = []\n",
    "for i in range(1000,41000,1000):\n",
    "    dat = np.loadtxt(f'ABF/500/bias_out_%d.dat' % (i), skiprows=1)\n",
    "    (P,dat) = get_F(dat[:,3], dat[:,0])\n",
    "    RMSD_ABF_500.append(RMSD(dat))"
   ]
  },
  {
   "cell_type": "code",
   "execution_count": 9,
   "metadata": {},
   "outputs": [
    {
     "data": {
      "text/plain": [
       "Text(0, 0.5, 'RMSD')"
      ]
     },
     "execution_count": 9,
     "metadata": {},
     "output_type": "execute_result"
    },
    {
     "data": {
      "image/png": "[encoded data removed]",
      "text/plain": [
       "<Figure size 432x288 with 1 Axes>"
      ]
     },
     "metadata": {
      "needs_background": "light"
     },
     "output_type": "display_data"
    }
   ],
   "source": [
    "plt.plot(RMSD_ABF_100)\n",
    "plt.plot(RMSD_ABF_500)\n",
    "#plt.plot(RMSD_ABF_10)\n",
    "plt.plot(RMSD_ABF_1)\n",
    "plt.ylim(0,10)\n",
    "plt.xlabel('1000 fs')\n",
    "plt.ylabel('RMSD')"
   ]
  },
  {
   "cell_type": "code",
   "execution_count": 10,
   "metadata": {},
   "outputs": [],
   "source": [
    "eABF = np.loadtxt('eABF/bias_out.dat', skiprows=1)\n",
    "x = np.degrees(eABF[:,0])\n",
    "(eABF_P,eABF_F) = get_F(eABF[:,3], x)"
   ]
  },
  {
   "cell_type": "code",
   "execution_count": 11,
   "metadata": {},
   "outputs": [],
   "source": [
    "meABF = np.loadtxt('meta_eABF/bias_out.dat', skiprows=1)\n",
    "(meABF_P,meABF_F) = get_F(meABF[:,3], x)"
   ]
  },
  {
   "cell_type": "code",
   "execution_count": 12,
   "metadata": {},
   "outputs": [],
   "source": [
    "ABF = np.loadtxt('ABF/bias_out_10000.dat', skiprows=1)\n",
    "x1 = np.degrees(ABF[:,0])\n",
    "(ABF_P, ABF_F) = get_F(ABF[:,3], x1)"
   ]
  },
  {
   "cell_type": "code",
   "execution_count": 1,
   "metadata": {},
   "outputs": [
    {
     "ename": "NameError",
     "evalue": "name 'plt' is not defined",
     "output_type": "error",
     "traceback": [
      "\u001b[0;31m---------------------------------------------------------------------------\u001b[0m",
      "\u001b[0;31mNameError\u001b[0m                                 Traceback (most recent call last)",
      "\u001b[0;32m<ipython-input-1-488ae677893d>\u001b[0m in \u001b[0;36m<module>\u001b[0;34m\u001b[0m\n\u001b[0;32m----> 1\u001b[0;31m \u001b[0mplt\u001b[0m\u001b[0;34m.\u001b[0m\u001b[0mrcParams\u001b[0m\u001b[0;34m[\u001b[0m\u001b[0;34m\"figure.figsize\"\u001b[0m\u001b[0;34m]\u001b[0m \u001b[0;34m=\u001b[0m \u001b[0;34m[\u001b[0m\u001b[0;36m12\u001b[0m\u001b[0;34m,\u001b[0m\u001b[0;36m5\u001b[0m\u001b[0;34m]\u001b[0m\u001b[0;34m\u001b[0m\u001b[0;34m\u001b[0m\u001b[0m\n\u001b[0m\u001b[1;32m      2\u001b[0m \u001b[0mrc\u001b[0m\u001b[0;34m(\u001b[0m\u001b[0;34m'text'\u001b[0m\u001b[0;34m,\u001b[0m \u001b[0musetex\u001b[0m\u001b[0;34m=\u001b[0m\u001b[0;32mTrue\u001b[0m\u001b[0;34m)\u001b[0m\u001b[0;34m\u001b[0m\u001b[0;34m\u001b[0m\u001b[0m\n\u001b[1;32m      3\u001b[0m \u001b[0mfig\u001b[0m\u001b[0;34m,\u001b[0m \u001b[0maxs\u001b[0m \u001b[0;34m=\u001b[0m \u001b[0mplt\u001b[0m\u001b[0;34m.\u001b[0m\u001b[0msubplots\u001b[0m\u001b[0;34m(\u001b[0m\u001b[0mncols\u001b[0m\u001b[0;34m=\u001b[0m\u001b[0;36m2\u001b[0m\u001b[0;34m)\u001b[0m\u001b[0;34m\u001b[0m\u001b[0;34m\u001b[0m\u001b[0m\n\u001b[1;32m      4\u001b[0m \u001b[0maxs\u001b[0m\u001b[0;34m[\u001b[0m\u001b[0;36m0\u001b[0m\u001b[0;34m]\u001b[0m\u001b[0;34m.\u001b[0m\u001b[0mplot\u001b[0m\u001b[0;34m(\u001b[0m\u001b[0mx1\u001b[0m\u001b[0;34m,\u001b[0m \u001b[0mABF_P\u001b[0m\u001b[0;34m,\u001b[0m \u001b[0mlabel\u001b[0m\u001b[0;34m=\u001b[0m\u001b[0;34m'ABF'\u001b[0m\u001b[0;34m)\u001b[0m\u001b[0;34m\u001b[0m\u001b[0;34m\u001b[0m\u001b[0m\n\u001b[1;32m      5\u001b[0m \u001b[0maxs\u001b[0m\u001b[0;34m[\u001b[0m\u001b[0;36m1\u001b[0m\u001b[0;34m]\u001b[0m\u001b[0;34m.\u001b[0m\u001b[0mplot\u001b[0m\u001b[0;34m(\u001b[0m\u001b[0mx1\u001b[0m\u001b[0;34m,\u001b[0m \u001b[0mABF_F\u001b[0m\u001b[0;34m-\u001b[0m\u001b[0mABF_F\u001b[0m\u001b[0;34m.\u001b[0m\u001b[0mmin\u001b[0m\u001b[0;34m(\u001b[0m\u001b[0;34m)\u001b[0m\u001b[0;34m,\u001b[0m \u001b[0mlabel\u001b[0m\u001b[0;34m=\u001b[0m\u001b[0;34m'ABF'\u001b[0m\u001b[0;34m)\u001b[0m\u001b[0;34m\u001b[0m\u001b[0;34m\u001b[0m\u001b[0m\n",
      "\u001b[0;31mNameError\u001b[0m: name 'plt' is not defined"
     ]
    }
   ],
   "source": [
    "plt.rcParams[\"figure.figsize\"] = [12,5]\n",
    "fig, axs = plt.subplots(ncols=2)\n",
    "axs[0].plot(x1, ABF_P, label='ABF')\n",
    "axs[1].plot(x1, ABF_F-ABF_F.min(), label='ABF')\n",
    "axs[0].plot(x, eABF_P, label='eABF')\n",
    "axs[1].plot(x, eABF_F-eABF_F.min(), label='eABF')\n",
    "axs[0].plot(x, meABF_P, label='meta-eABF')\n",
    "axs[1].plot(x, meABF_F-meABF_F.min(),label='meta-eABF')\n",
    "axs[0].grid()\n",
    "axs[1].grid()\n",
    "axs[0].set_xlabel('torsion [degree]')\n",
    "axs[1].set_xlabel('torsion [degree]')\n",
    "axs[0].set_ylabel('P')\n",
    "axs[1].set_ylabel('free Energy [kJ/mol]')\n",
    "axs[0].set_title('probability surface (sum(P(x)dx)=1)')\n",
    "axs[1].set_title('free Energy')\n",
    "plt.tight_layout()\n",
    "plt.legend()\n",
    "plt.savefig(\"torsion.png\", dpi=400)\n",
    "plt.show()\n",
    "plt.close()"
   ]
  },
  {
   "cell_type": "code",
   "execution_count": null,
   "metadata": {},
   "outputs": [],
   "source": []
  }
 ],
 "metadata": {
  "kernelspec": {
   "display_name": "Python 3",
   "language": "python",
   "name": "python3"
  },
  "language_info": {
   "codemirror_mode": {
    "name": "ipython",
    "version": 3
   },
   "file_extension": ".py",
   "mimetype": "text/x-python",
   "name": "python",
   "nbconvert_exporter": "python",
   "pygments_lexer": "ipython3",
   "version": "3.8.5"
  }
 },
 "nbformat": 4,
 "nbformat_minor": 4
}
